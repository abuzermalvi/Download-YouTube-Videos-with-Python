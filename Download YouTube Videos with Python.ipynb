{
 "cells": [
  {
   "cell_type": "code",
   "execution_count": 1,
   "metadata": {
    "ExecuteTime": {
     "end_time": "2020-07-09T03:16:54.989316Z",
     "start_time": "2020-07-09T03:14:56.456771Z"
    }
   },
   "outputs": [
    {
     "name": "stdout",
     "output_type": "stream",
     "text": [
      "Collecting youtube_dl\n",
      "  Downloading youtube_dl-2020.6.16.1-py2.py3-none-any.whl (1.8 MB)\n",
      "Installing collected packages: youtube-dl\n",
      "Successfully installed youtube-dl-2020.6.16.1\n",
      "Note: you may need to restart the kernel to use updated packages.\n"
     ]
    }
   ],
   "source": [
    "pip install youtube_dl"
   ]
  },
  {
   "cell_type": "code",
   "execution_count": 5,
   "metadata": {
    "ExecuteTime": {
     "end_time": "2020-07-09T03:28:36.005683Z",
     "start_time": "2020-07-09T03:28:02.401545Z"
    },
    "scrolled": true
   },
   "outputs": [
    {
     "name": "stdout",
     "output_type": "stream",
     "text": [
      "[youtube] wQZQADpna9Q: Downloading webpage\n",
      "[download] Destination: Leo Messi Goal vs Real Madrid 2017 _ RAY HUDSON AMAZING COMMENTARY _ 720p 60fps - By Pirelli7-wQZQADpna9Q.mp4\n",
      "[download] 100% of 32.03MiB in 00:30                          \n"
     ]
    }
   ],
   "source": [
    "import youtube_dl\n",
    "\n",
    "# you can add multiple links here\n",
    "links = ['https://youtu.be/wQZQADpna9Q']\n",
    "\n",
    "opts = {}\n",
    "with youtube_dl.YoutubeDL(opts) as ydl:\n",
    "    ydl.download(links)"
   ]
  },
  {
   "cell_type": "code",
   "execution_count": 9,
   "metadata": {
    "ExecuteTime": {
     "end_time": "2020-07-09T03:38:16.129514Z",
     "start_time": "2020-07-09T03:37:52.544043Z"
    }
   },
   "outputs": [
    {
     "name": "stdout",
     "output_type": "stream",
     "text": [
      "[youtube] nIwU-9ZTTJc: Downloading webpage\n",
      "[info] Writing video description to: ENGLISH SPEECH _ EMMA WATSON - Gender Equality (English Subtitles)-nIwU-9ZTTJc.description\n",
      "[info] Writing video subtitles to: ENGLISH SPEECH _ EMMA WATSON - Gender Equality (English Subtitles)-nIwU-9ZTTJc.en.vtt\n",
      "[youtube] nIwU-9ZTTJc: Downloading thumbnail ...\n",
      "[youtube] nIwU-9ZTTJc: Writing thumbnail to: ENGLISH SPEECH _ EMMA WATSON - Gender Equality (English Subtitles)-nIwU-9ZTTJc.webp\n"
     ]
    },
    {
     "name": "stderr",
     "output_type": "stream",
     "text": [
      "WARNING: You have requested multiple formats but ffmpeg or avconv are not installed. The formats won't be merged.\n"
     ]
    },
    {
     "name": "stdout",
     "output_type": "stream",
     "text": [
      "[download] Destination: ENGLISH SPEECH _ EMMA WATSON - Gender Equality (English Subtitles)-nIwU-9ZTTJc.f248.webm\n",
      "[download] 100% of 28.72MiB in 00:19                          \n",
      "[download] Destination: ENGLISH SPEECH _ EMMA WATSON - Gender Equality (English Subtitles)-nIwU-9ZTTJc.f251.webm\n",
      "[download] 100% of 3.59MiB in 00:01                  \n"
     ]
    }
   ],
   "source": [
    "links = ['https://youtu.be/nIwU-9ZTTJc']\n",
    "\n",
    "opts = {\n",
    "    # gives you an option to download the video in its best format available \n",
    "    'format' : 'bestvideo+bestaudio',\n",
    "    \n",
    "    # downloads the thumbnail image of the video\n",
    "    'writethumbnail' : 'writethhumbnail',\n",
    "    \n",
    "    # downloads the video with subtitles\n",
    "    'writesubtitles' : 'writesubtitles',\n",
    "    \n",
    "    # writes the video description to a .description file\n",
    "    'writedescription' : 'writedescription'\n",
    "}\n",
    "with youtube_dl.YoutubeDL(opts) as ydl:\n",
    "    ydl.download(links)"
   ]
  },
  {
   "cell_type": "code",
   "execution_count": null,
   "metadata": {},
   "outputs": [],
   "source": []
  }
 ],
 "metadata": {
  "kernelspec": {
   "display_name": "Python 3",
   "language": "python",
   "name": "python3"
  },
  "language_info": {
   "codemirror_mode": {
    "name": "ipython",
    "version": 3
   },
   "file_extension": ".py",
   "mimetype": "text/x-python",
   "name": "python",
   "nbconvert_exporter": "python",
   "pygments_lexer": "ipython3",
   "version": "3.7.7"
  }
 },
 "nbformat": 4,
 "nbformat_minor": 4
}
